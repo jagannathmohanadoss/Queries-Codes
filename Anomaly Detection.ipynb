{
 "cells": [
  {
   "cell_type": "code",
   "execution_count": 1,
   "id": "bf41624e",
   "metadata": {},
   "outputs": [],
   "source": [
    "# Supress Warnings\n",
    "\n",
    "import warnings\n",
    "warnings.filterwarnings('ignore')\n",
    "\n",
    "# Import the numpy and pandas package\n",
    "\n",
    "import numpy as np\n",
    "import pandas as pd\n",
    "\n",
    "# Data Visualisation\n",
    "import matplotlib.pyplot as plt \n",
    "import seaborn as sns"
   ]
  },
  {
   "cell_type": "markdown",
   "id": "086a8d91",
   "metadata": {},
   "source": [
    "## Data Inspection"
   ]
  },
  {
   "cell_type": "code",
   "execution_count": 55,
   "id": "b2a067a0",
   "metadata": {},
   "outputs": [
    {
     "data": {
      "text/html": [
       "<div>\n",
       "<style scoped>\n",
       "    .dataframe tbody tr th:only-of-type {\n",
       "        vertical-align: middle;\n",
       "    }\n",
       "\n",
       "    .dataframe tbody tr th {\n",
       "        vertical-align: top;\n",
       "    }\n",
       "\n",
       "    .dataframe thead th {\n",
       "        text-align: right;\n",
       "    }\n",
       "</style>\n",
       "<table border=\"1\" class=\"dataframe\">\n",
       "  <thead>\n",
       "    <tr style=\"text-align: right;\">\n",
       "      <th></th>\n",
       "      <th>date</th>\n",
       "      <th>pub_id</th>\n",
       "      <th>app_id</th>\n",
       "      <th>ad_unit_code</th>\n",
       "      <th>country</th>\n",
       "      <th>requests</th>\n",
       "      <th>ae_responses</th>\n",
       "      <th>ae_impressions</th>\n",
       "      <th>ae_clicks</th>\n",
       "      <th>ae_revenue</th>\n",
       "    </tr>\n",
       "  </thead>\n",
       "  <tbody>\n",
       "    <tr>\n",
       "      <th>0</th>\n",
       "      <td>20-10-2022</td>\n",
       "      <td>1987</td>\n",
       "      <td>16243270</td>\n",
       "      <td>22832846443</td>\n",
       "      <td>Tanzania</td>\n",
       "      <td>36</td>\n",
       "      <td>36</td>\n",
       "      <td>34</td>\n",
       "      <td>0</td>\n",
       "      <td>0.035738</td>\n",
       "    </tr>\n",
       "    <tr>\n",
       "      <th>1</th>\n",
       "      <td>20-10-2022</td>\n",
       "      <td>1987</td>\n",
       "      <td>16243270</td>\n",
       "      <td>22832846593</td>\n",
       "      <td>Tanzania</td>\n",
       "      <td>24</td>\n",
       "      <td>24</td>\n",
       "      <td>23</td>\n",
       "      <td>0</td>\n",
       "      <td>0.064384</td>\n",
       "    </tr>\n",
       "    <tr>\n",
       "      <th>2</th>\n",
       "      <td>20-10-2022</td>\n",
       "      <td>1987</td>\n",
       "      <td>16243270</td>\n",
       "      <td>22832846443</td>\n",
       "      <td>Thailand</td>\n",
       "      <td>949</td>\n",
       "      <td>949</td>\n",
       "      <td>876</td>\n",
       "      <td>20</td>\n",
       "      <td>4.943878</td>\n",
       "    </tr>\n",
       "    <tr>\n",
       "      <th>3</th>\n",
       "      <td>20-10-2022</td>\n",
       "      <td>1987</td>\n",
       "      <td>16243270</td>\n",
       "      <td>22832846593</td>\n",
       "      <td>Thailand</td>\n",
       "      <td>1006</td>\n",
       "      <td>907</td>\n",
       "      <td>688</td>\n",
       "      <td>134</td>\n",
       "      <td>24.226836</td>\n",
       "    </tr>\n",
       "    <tr>\n",
       "      <th>4</th>\n",
       "      <td>20-10-2022</td>\n",
       "      <td>1987</td>\n",
       "      <td>16243270</td>\n",
       "      <td>22832827729</td>\n",
       "      <td>Thailand</td>\n",
       "      <td>373</td>\n",
       "      <td>287</td>\n",
       "      <td>156</td>\n",
       "      <td>20</td>\n",
       "      <td>2.759392</td>\n",
       "    </tr>\n",
       "  </tbody>\n",
       "</table>\n",
       "</div>"
      ],
      "text/plain": [
       "         date  pub_id    app_id  ad_unit_code   country  requests  \\\n",
       "0  20-10-2022    1987  16243270   22832846443  Tanzania        36   \n",
       "1  20-10-2022    1987  16243270   22832846593  Tanzania        24   \n",
       "2  20-10-2022    1987  16243270   22832846443  Thailand       949   \n",
       "3  20-10-2022    1987  16243270   22832846593  Thailand      1006   \n",
       "4  20-10-2022    1987  16243270   22832827729  Thailand       373   \n",
       "\n",
       "   ae_responses  ae_impressions  ae_clicks  ae_revenue  \n",
       "0            36              34          0    0.035738  \n",
       "1            24              23          0    0.064384  \n",
       "2           949             876         20    4.943878  \n",
       "3           907             688        134   24.226836  \n",
       "4           287             156         20    2.759392  "
      ]
     },
     "execution_count": 55,
     "metadata": {},
     "output_type": "execute_result"
    }
   ],
   "source": [
    "sikka = pd.DataFrame(pd.read_csv(\"Q4_ADX_Sample_data.csv\"))\n",
    "sikka=sikka.iloc[:, 0:10]\n",
    "sikka.head()"
   ]
  },
  {
   "cell_type": "code",
   "execution_count": 56,
   "id": "9a93ba39",
   "metadata": {},
   "outputs": [
    {
     "data": {
      "text/plain": [
       "(47935, 10)"
      ]
     },
     "execution_count": 56,
     "metadata": {},
     "output_type": "execute_result"
    }
   ],
   "source": [
    "sikka.shape"
   ]
  },
  {
   "cell_type": "code",
   "execution_count": 57,
   "id": "e71b0172",
   "metadata": {},
   "outputs": [
    {
     "name": "stdout",
     "output_type": "stream",
     "text": [
      "<class 'pandas.core.frame.DataFrame'>\n",
      "RangeIndex: 47935 entries, 0 to 47934\n",
      "Data columns (total 10 columns):\n",
      " #   Column          Non-Null Count  Dtype  \n",
      "---  ------          --------------  -----  \n",
      " 0   date            47935 non-null  object \n",
      " 1   pub_id          47935 non-null  int64  \n",
      " 2   app_id          47935 non-null  int64  \n",
      " 3   ad_unit_code    47935 non-null  int64  \n",
      " 4   country         47515 non-null  object \n",
      " 5   requests        47935 non-null  int64  \n",
      " 6   ae_responses    47935 non-null  int64  \n",
      " 7   ae_impressions  47935 non-null  int64  \n",
      " 8   ae_clicks       47935 non-null  int64  \n",
      " 9   ae_revenue      47935 non-null  float64\n",
      "dtypes: float64(1), int64(7), object(2)\n",
      "memory usage: 3.7+ MB\n"
     ]
    }
   ],
   "source": [
    "sikka.info()"
   ]
  },
  {
   "cell_type": "code",
   "execution_count": 60,
   "id": "5779b7cb",
   "metadata": {
    "scrolled": true
   },
   "outputs": [
    {
     "data": {
      "text/html": [
       "<div>\n",
       "<style scoped>\n",
       "    .dataframe tbody tr th:only-of-type {\n",
       "        vertical-align: middle;\n",
       "    }\n",
       "\n",
       "    .dataframe tbody tr th {\n",
       "        vertical-align: top;\n",
       "    }\n",
       "\n",
       "    .dataframe thead th {\n",
       "        text-align: right;\n",
       "    }\n",
       "</style>\n",
       "<table border=\"1\" class=\"dataframe\">\n",
       "  <thead>\n",
       "    <tr style=\"text-align: right;\">\n",
       "      <th></th>\n",
       "      <th>requests</th>\n",
       "      <th>ae_responses</th>\n",
       "      <th>ae_impressions</th>\n",
       "      <th>ae_clicks</th>\n",
       "      <th>ae_revenue</th>\n",
       "    </tr>\n",
       "  </thead>\n",
       "  <tbody>\n",
       "    <tr>\n",
       "      <th>count</th>\n",
       "      <td>47935.000000</td>\n",
       "      <td>47935.000000</td>\n",
       "      <td>47935.000000</td>\n",
       "      <td>47935.000000</td>\n",
       "      <td>47935.000000</td>\n",
       "    </tr>\n",
       "    <tr>\n",
       "      <th>mean</th>\n",
       "      <td>585.827808</td>\n",
       "      <td>516.918202</td>\n",
       "      <td>257.055137</td>\n",
       "      <td>13.502514</td>\n",
       "      <td>2.098320</td>\n",
       "    </tr>\n",
       "    <tr>\n",
       "      <th>std</th>\n",
       "      <td>3024.686475</td>\n",
       "      <td>2579.695718</td>\n",
       "      <td>1294.313552</td>\n",
       "      <td>73.922916</td>\n",
       "      <td>27.784254</td>\n",
       "    </tr>\n",
       "    <tr>\n",
       "      <th>min</th>\n",
       "      <td>16.000000</td>\n",
       "      <td>16.000000</td>\n",
       "      <td>16.000000</td>\n",
       "      <td>0.000000</td>\n",
       "      <td>0.000111</td>\n",
       "    </tr>\n",
       "    <tr>\n",
       "      <th>25%</th>\n",
       "      <td>50.000000</td>\n",
       "      <td>47.000000</td>\n",
       "      <td>27.000000</td>\n",
       "      <td>0.000000</td>\n",
       "      <td>0.026047</td>\n",
       "    </tr>\n",
       "    <tr>\n",
       "      <th>50%</th>\n",
       "      <td>109.000000</td>\n",
       "      <td>100.000000</td>\n",
       "      <td>52.000000</td>\n",
       "      <td>2.000000</td>\n",
       "      <td>0.112968</td>\n",
       "    </tr>\n",
       "    <tr>\n",
       "      <th>75%</th>\n",
       "      <td>300.000000</td>\n",
       "      <td>275.000000</td>\n",
       "      <td>140.000000</td>\n",
       "      <td>7.000000</td>\n",
       "      <td>0.537878</td>\n",
       "    </tr>\n",
       "    <tr>\n",
       "      <th>max</th>\n",
       "      <td>156435.000000</td>\n",
       "      <td>156296.000000</td>\n",
       "      <td>69448.000000</td>\n",
       "      <td>6853.000000</td>\n",
       "      <td>2137.181915</td>\n",
       "    </tr>\n",
       "  </tbody>\n",
       "</table>\n",
       "</div>"
      ],
      "text/plain": [
       "            requests   ae_responses  ae_impressions     ae_clicks  \\\n",
       "count   47935.000000   47935.000000    47935.000000  47935.000000   \n",
       "mean      585.827808     516.918202      257.055137     13.502514   \n",
       "std      3024.686475    2579.695718     1294.313552     73.922916   \n",
       "min        16.000000      16.000000       16.000000      0.000000   \n",
       "25%        50.000000      47.000000       27.000000      0.000000   \n",
       "50%       109.000000     100.000000       52.000000      2.000000   \n",
       "75%       300.000000     275.000000      140.000000      7.000000   \n",
       "max    156435.000000  156296.000000    69448.000000   6853.000000   \n",
       "\n",
       "         ae_revenue  \n",
       "count  47935.000000  \n",
       "mean       2.098320  \n",
       "std       27.784254  \n",
       "min        0.000111  \n",
       "25%        0.026047  \n",
       "50%        0.112968  \n",
       "75%        0.537878  \n",
       "max     2137.181915  "
      ]
     },
     "execution_count": 60,
     "metadata": {},
     "output_type": "execute_result"
    }
   ],
   "source": [
    "(sikka.iloc[:,4:]).describe()"
   ]
  },
  {
   "cell_type": "markdown",
   "id": "1d22740c",
   "metadata": {},
   "source": [
    "## Data Cleaning"
   ]
  },
  {
   "cell_type": "code",
   "execution_count": 17,
   "id": "77bf8235",
   "metadata": {},
   "outputs": [
    {
     "data": {
      "text/plain": [
       "date              0.000000\n",
       "pub_id            0.000000\n",
       "app_id            0.000000\n",
       "ad_unit_code      0.000000\n",
       "country           0.876187\n",
       "requests          0.000000\n",
       "ae_responses      0.000000\n",
       "ae_impressions    0.000000\n",
       "ae_clicks         0.000000\n",
       "ae_revenue        0.000000\n",
       "dtype: float64"
      ]
     },
     "execution_count": 17,
     "metadata": {},
     "output_type": "execute_result"
    }
   ],
   "source": [
    "# Checking Null values\n",
    "sikka.isnull().sum()*100/sikka.shape[0]\n",
    "# There are no NULL values in the dataset, hence it is clean."
   ]
  },
  {
   "cell_type": "code",
   "execution_count": 19,
   "id": "d230ecf2",
   "metadata": {},
   "outputs": [
    {
     "data": {
      "image/png": "[encoded data removed]",
      "text/plain": [
       "<Figure size 360x360 with 5 Axes>"
      ]
     },
     "metadata": {
      "needs_background": "light"
     },
     "output_type": "display_data"
    }
   ],
   "source": [
    "# Outlier Analysis\n",
    "fig, axs = plt.subplots(5, figsize = (5,5))\n",
    "plt1 = sns.boxplot(sikka['requests'], ax = axs[0])\n",
    "plt2 = sns.boxplot(sikka['ae_responses'], ax = axs[1])\n",
    "plt3 = sns.boxplot(sikka['ae_impressions'], ax = axs[2])\n",
    "plt3 = sns.boxplot(sikka['ae_clicks'], ax = axs[3])\n",
    "plt3 = sns.boxplot(sikka['ae_revenue'], ax = axs[4])\n",
    "plt.tight_layout()"
   ]
  },
  {
   "cell_type": "code",
   "execution_count": 20,
   "id": "a0fae741",
   "metadata": {},
   "outputs": [
    {
     "data": {
      "image/png": "[encoded data removed]",
      "text/plain": [
       "<Figure size 432x288 with 2 Axes>"
      ]
     },
     "metadata": {
      "needs_background": "light"
     },
     "output_type": "display_data"
    }
   ],
   "source": [
    "# Let's see the correlation between different variables.\n",
    "sns.heatmap(sikka.corr(), cmap=\"YlGnBu\", annot = True)\n",
    "plt.show()"
   ]
  },
  {
   "cell_type": "code",
   "execution_count": null,
   "id": "3382f3fd",
   "metadata": {},
   "outputs": [],
   "source": []
  }
 ],
 "metadata": {
  "kernelspec": {
   "display_name": "Python 3",
   "language": "python",
   "name": "python3"
  },
  "language_info": {
   "codemirror_mode": {
    "name": "ipython",
    "version": 3
   },
   "file_extension": ".py",
   "mimetype": "text/x-python",
   "name": "python",
   "nbconvert_exporter": "python",
   "pygments_lexer": "ipython3",
   "version": "3.8.8"
  }
 },
 "nbformat": 4,
 "nbformat_minor": 5
}
