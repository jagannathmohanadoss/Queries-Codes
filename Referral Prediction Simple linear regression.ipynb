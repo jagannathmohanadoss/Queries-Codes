{
 "cells": [
  {
   "cell_type": "markdown",
   "metadata": {
    "_uuid": "d98e260fd46b2018f8235d76d6b46d6e149ded86"
   },
   "source": [
    "# Referral Prediction\n",
    "## ( Simple Linear Regression)"
   ]
  },
  {
   "cell_type": "markdown",
   "metadata": {
    "_uuid": "fab1024005bc13658e3ef2f8a2e46971881bc3ef"
   },
   "source": [
    "## Reading and Understanding the Data"
   ]
  },
  {
   "cell_type": "code",
   "execution_count": 65,
   "metadata": {
    "_uuid": "d68008018678c65564ddda5994cb05129f3ca72b"
   },
   "outputs": [],
   "source": [
    "# Supress Warnings\n",
    "\n",
    "import warnings\n",
    "warnings.filterwarnings('ignore')\n",
    "\n",
    "# Import the numpy and pandas package\n",
    "\n",
    "import numpy as np\n",
    "import pandas as pd\n",
    "\n",
    "# Data Visualisation\n",
    "import matplotlib.pyplot as plt \n",
    "import seaborn as sns"
   ]
  },
  {
   "cell_type": "code",
   "execution_count": 68,
   "metadata": {
    "_uuid": "1365d38deb407ea9c0f4e93830c5f9d4d65ebd9d"
   },
   "outputs": [
    {
     "data": {
      "text/html": [
       "<div>\n",
       "<style scoped>\n",
       "    .dataframe tbody tr th:only-of-type {\n",
       "        vertical-align: middle;\n",
       "    }\n",
       "\n",
       "    .dataframe tbody tr th {\n",
       "        vertical-align: top;\n",
       "    }\n",
       "\n",
       "    .dataframe thead th {\n",
       "        text-align: right;\n",
       "    }\n",
       "</style>\n",
       "<table border=\"1\" class=\"dataframe\">\n",
       "  <thead>\n",
       "    <tr style=\"text-align: right;\">\n",
       "      <th></th>\n",
       "      <th>Date</th>\n",
       "      <th>DAU</th>\n",
       "      <th>Installs</th>\n",
       "      <th>Uninstalls</th>\n",
       "      <th>Signups</th>\n",
       "      <th>Referrals</th>\n",
       "    </tr>\n",
       "  </thead>\n",
       "  <tbody>\n",
       "    <tr>\n",
       "      <th>0</th>\n",
       "      <td>01-10-2022</td>\n",
       "      <td>24071</td>\n",
       "      <td>6630</td>\n",
       "      <td>6994</td>\n",
       "      <td>3511</td>\n",
       "      <td>962</td>\n",
       "    </tr>\n",
       "    <tr>\n",
       "      <th>1</th>\n",
       "      <td>02-10-2022</td>\n",
       "      <td>23548</td>\n",
       "      <td>6366</td>\n",
       "      <td>6669</td>\n",
       "      <td>3387</td>\n",
       "      <td>941</td>\n",
       "    </tr>\n",
       "    <tr>\n",
       "      <th>2</th>\n",
       "      <td>03-10-2022</td>\n",
       "      <td>24572</td>\n",
       "      <td>6936</td>\n",
       "      <td>6899</td>\n",
       "      <td>3654</td>\n",
       "      <td>940</td>\n",
       "    </tr>\n",
       "    <tr>\n",
       "      <th>3</th>\n",
       "      <td>04-10-2022</td>\n",
       "      <td>24212</td>\n",
       "      <td>6561</td>\n",
       "      <td>6766</td>\n",
       "      <td>3532</td>\n",
       "      <td>960</td>\n",
       "    </tr>\n",
       "    <tr>\n",
       "      <th>4</th>\n",
       "      <td>05-10-2022</td>\n",
       "      <td>23247</td>\n",
       "      <td>6059</td>\n",
       "      <td>6402</td>\n",
       "      <td>3315</td>\n",
       "      <td>923</td>\n",
       "    </tr>\n",
       "  </tbody>\n",
       "</table>\n",
       "</div>"
      ],
      "text/plain": [
       "         Date    DAU  Installs  Uninstalls  Signups  Referrals\n",
       "0  01-10-2022  24071      6630        6994     3511        962\n",
       "1  02-10-2022  23548      6366        6669     3387        941\n",
       "2  03-10-2022  24572      6936        6899     3654        940\n",
       "3  04-10-2022  24212      6561        6766     3532        960\n",
       "4  05-10-2022  23247      6059        6402     3315        923"
      ]
     },
     "execution_count": 68,
     "metadata": {},
     "output_type": "execute_result"
    }
   ],
   "source": [
    "sikka = pd.DataFrame(pd.read_csv(\"Q3_Sikka data.csv\"))\n",
    "test = pd.DataFrame(pd.read_excel(\"test.xlsx\"))\n",
    "sikka=sikka.iloc[:, 0:6] \n",
    "sikka.head()"
   ]
  },
  {
   "cell_type": "markdown",
   "metadata": {
    "_uuid": "39753c6695c9c1fb90e9d0bbbba0bf8c09b600c2"
   },
   "source": [
    "## Data Inspection"
   ]
  },
  {
   "cell_type": "code",
   "execution_count": 18,
   "metadata": {
    "_uuid": "4f36948806d235d179b1a5c6b6c990a41afc6e4a",
    "scrolled": true
   },
   "outputs": [
    {
     "data": {
      "text/plain": [
       "(46, 6)"
      ]
     },
     "execution_count": 18,
     "metadata": {},
     "output_type": "execute_result"
    }
   ],
   "source": [
    "sikka.shape"
   ]
  },
  {
   "cell_type": "code",
   "execution_count": 19,
   "metadata": {
    "_uuid": "9578033b7d507aa4d901b48de36931066cc00241"
   },
   "outputs": [
    {
     "name": "stdout",
     "output_type": "stream",
     "text": [
      "<class 'pandas.core.frame.DataFrame'>\n",
      "RangeIndex: 46 entries, 0 to 45\n",
      "Data columns (total 6 columns):\n",
      " #   Column      Non-Null Count  Dtype  \n",
      "---  ------      --------------  -----  \n",
      " 0   Date        46 non-null     object \n",
      " 1   DAU         46 non-null     int64  \n",
      " 2   Installs    46 non-null     int64  \n",
      " 3   Uninstalls  46 non-null     int64  \n",
      " 4   Signups     46 non-null     int64  \n",
      " 5   Referrals   46 non-null     float64\n",
      "dtypes: float64(1), int64(4), object(1)\n",
      "memory usage: 2.3+ KB\n"
     ]
    }
   ],
   "source": [
    "sikka.info()"
   ]
  },
  {
   "cell_type": "code",
   "execution_count": 20,
   "metadata": {
    "_uuid": "b817b9601c376627448453b03d79bf8f9dd02eac"
   },
   "outputs": [
    {
     "data": {
      "text/html": [
       "<div>\n",
       "<style scoped>\n",
       "    .dataframe tbody tr th:only-of-type {\n",
       "        vertical-align: middle;\n",
       "    }\n",
       "\n",
       "    .dataframe tbody tr th {\n",
       "        vertical-align: top;\n",
       "    }\n",
       "\n",
       "    .dataframe thead th {\n",
       "        text-align: right;\n",
       "    }\n",
       "</style>\n",
       "<table border=\"1\" class=\"dataframe\">\n",
       "  <thead>\n",
       "    <tr style=\"text-align: right;\">\n",
       "      <th></th>\n",
       "      <th>DAU</th>\n",
       "      <th>Installs</th>\n",
       "      <th>Uninstalls</th>\n",
       "      <th>Signups</th>\n",
       "      <th>Referrals</th>\n",
       "    </tr>\n",
       "  </thead>\n",
       "  <tbody>\n",
       "    <tr>\n",
       "      <th>count</th>\n",
       "      <td>46.000000</td>\n",
       "      <td>46.000000</td>\n",
       "      <td>46.000000</td>\n",
       "      <td>46.000000</td>\n",
       "      <td>46.000000</td>\n",
       "    </tr>\n",
       "    <tr>\n",
       "      <th>mean</th>\n",
       "      <td>17788.586957</td>\n",
       "      <td>5064.978261</td>\n",
       "      <td>5494.347826</td>\n",
       "      <td>2550.891304</td>\n",
       "      <td>652.060870</td>\n",
       "    </tr>\n",
       "    <tr>\n",
       "      <th>std</th>\n",
       "      <td>4892.080923</td>\n",
       "      <td>1624.796773</td>\n",
       "      <td>1402.885078</td>\n",
       "      <td>991.987348</td>\n",
       "      <td>267.162665</td>\n",
       "    </tr>\n",
       "    <tr>\n",
       "      <th>min</th>\n",
       "      <td>12042.000000</td>\n",
       "      <td>3074.000000</td>\n",
       "      <td>3815.000000</td>\n",
       "      <td>1363.000000</td>\n",
       "      <td>354.000000</td>\n",
       "    </tr>\n",
       "    <tr>\n",
       "      <th>25%</th>\n",
       "      <td>13380.250000</td>\n",
       "      <td>3708.750000</td>\n",
       "      <td>4321.250000</td>\n",
       "      <td>1729.500000</td>\n",
       "      <td>421.025000</td>\n",
       "    </tr>\n",
       "    <tr>\n",
       "      <th>50%</th>\n",
       "      <td>15059.500000</td>\n",
       "      <td>4479.500000</td>\n",
       "      <td>4738.000000</td>\n",
       "      <td>2065.500000</td>\n",
       "      <td>543.500000</td>\n",
       "    </tr>\n",
       "    <tr>\n",
       "      <th>75%</th>\n",
       "      <td>23472.750000</td>\n",
       "      <td>6332.000000</td>\n",
       "      <td>6741.750000</td>\n",
       "      <td>3369.000000</td>\n",
       "      <td>935.750000</td>\n",
       "    </tr>\n",
       "    <tr>\n",
       "      <th>max</th>\n",
       "      <td>25156.000000</td>\n",
       "      <td>8937.000000</td>\n",
       "      <td>8215.000000</td>\n",
       "      <td>4974.000000</td>\n",
       "      <td>1193.000000</td>\n",
       "    </tr>\n",
       "  </tbody>\n",
       "</table>\n",
       "</div>"
      ],
      "text/plain": [
       "                DAU     Installs   Uninstalls      Signups    Referrals\n",
       "count     46.000000    46.000000    46.000000    46.000000    46.000000\n",
       "mean   17788.586957  5064.978261  5494.347826  2550.891304   652.060870\n",
       "std     4892.080923  1624.796773  1402.885078   991.987348   267.162665\n",
       "min    12042.000000  3074.000000  3815.000000  1363.000000   354.000000\n",
       "25%    13380.250000  3708.750000  4321.250000  1729.500000   421.025000\n",
       "50%    15059.500000  4479.500000  4738.000000  2065.500000   543.500000\n",
       "75%    23472.750000  6332.000000  6741.750000  3369.000000   935.750000\n",
       "max    25156.000000  8937.000000  8215.000000  4974.000000  1193.000000"
      ]
     },
     "execution_count": 20,
     "metadata": {},
     "output_type": "execute_result"
    }
   ],
   "source": [
    "sikka.describe()"
   ]
  },
  {
   "cell_type": "markdown",
   "metadata": {
    "_uuid": "fab7463f8ed5eb55f1357db16c69204351295edf"
   },
   "source": [
    "## Data Cleaning"
   ]
  },
  {
   "cell_type": "code",
   "execution_count": 21,
   "metadata": {
    "_uuid": "cf9580e58b78c0558d96f54272701b6d2d32a018"
   },
   "outputs": [
    {
     "data": {
      "text/plain": [
       "Date          0.0\n",
       "DAU           0.0\n",
       "Installs      0.0\n",
       "Uninstalls    0.0\n",
       "Signups       0.0\n",
       "Referrals     0.0\n",
       "dtype: float64"
      ]
     },
     "execution_count": 21,
     "metadata": {},
     "output_type": "execute_result"
    }
   ],
   "source": [
    "# Checking Null values\n",
    "sikka.isnull().sum()*100/sikka.shape[0]\n",
    "# There are no NULL values in the dataset, hence it is clean."
   ]
  },
  {
   "cell_type": "code",
   "execution_count": 30,
   "metadata": {
    "_uuid": "c427a8e8a84e617eccdeda7df5eccd25f740f25d"
   },
   "outputs": [
    {
     "data": {
      "image/png": "[encoded data removed]",
      "text/plain": [
       "<Figure size 360x360 with 5 Axes>"
      ]
     },
     "metadata": {
      "needs_background": "light"
     },
     "output_type": "display_data"
    }
   ],
   "source": [
    "# Outlier Analysis\n",
    "fig, axs = plt.subplots(5, figsize = (5,5))\n",
    "plt1 = sns.boxplot(sikka['DAU'], ax = axs[0])\n",
    "plt2 = sns.boxplot(sikka['Installs'], ax = axs[1])\n",
    "plt3 = sns.boxplot(sikka['Uninstalls'], ax = axs[2])\n",
    "plt3 = sns.boxplot(sikka['Signups'], ax = axs[3])\n",
    "plt3 = sns.boxplot(sikka['Referrals'], ax = axs[4])\n",
    "plt.tight_layout()"
   ]
  },
  {
   "cell_type": "code",
   "execution_count": 26,
   "metadata": {
    "_uuid": "3f18bb0cc6014b12746f45ea30a7b769a59ad1a4"
   },
   "outputs": [],
   "source": [
    "# There are no considerable outliers present in the data."
   ]
  },
  {
   "cell_type": "markdown",
   "metadata": {
    "_uuid": "81898c048d2b70a32615965535f9b7a6fdc626ae"
   },
   "source": [
    "## Exploratory Data Analysis"
   ]
  },
  {
   "cell_type": "markdown",
   "metadata": {
    "_uuid": "d2ac5e56f61c3c9517621ad569068bbdcd65b8dd"
   },
   "source": [
    "### Univariate Analysis"
   ]
  },
  {
   "cell_type": "markdown",
   "metadata": {
    "_uuid": "7ebb232846d9ae796b258eb26642ef73ca2dcacc"
   },
   "source": [
    "#### Sales (Target Variable)"
   ]
  },
  {
   "cell_type": "code",
   "execution_count": 29,
   "metadata": {
    "_uuid": "d435bd318677f7a4234bf02efdf54aa19e8b2c16"
   },
   "outputs": [
    {
     "data": {
      "image/png": "[encoded data removed]",
      "text/plain": [
       "<Figure size 432x288 with 1 Axes>"
      ]
     },
     "metadata": {
      "needs_background": "light"
     },
     "output_type": "display_data"
    }
   ],
   "source": [
    "sns.boxplot(sikka['Referrals'])\n",
    "plt.show()"
   ]
  },
  {
   "cell_type": "code",
   "execution_count": 31,
   "metadata": {
    "_uuid": "2d6f716ebe182a58f9941c059256a09cc7f03703"
   },
   "outputs": [
    {
     "data": {
      "image/png": "[encoded data removed]",
      "text/plain": [
       "<Figure size 1152x288 with 4 Axes>"
      ]
     },
     "metadata": {
      "needs_background": "light"
     },
     "output_type": "display_data"
    }
   ],
   "source": [
    "# Let's see how referrals are related with other variables using scatter plot.\n",
    "sns.pairplot(sikka, x_vars=['DAU', 'Installs', 'Uninstalls','Signups'], y_vars='Referrals', height=4, aspect=1, kind='scatter')\n",
    "plt.show()"
   ]
  },
  {
   "cell_type": "code",
   "execution_count": 32,
   "metadata": {
    "_uuid": "ea27ea99e47d578866a706f437d74a8fe1ad2264"
   },
   "outputs": [
    {
     "data": {
      "image/png": "[encoded data removed]",
      "text/plain": [
       "<Figure size 432x288 with 2 Axes>"
      ]
     },
     "metadata": {
      "needs_background": "light"
     },
     "output_type": "display_data"
    }
   ],
   "source": [
    "# Let's see the correlation between different variables.\n",
    "sns.heatmap(sikka.corr(), cmap=\"YlGnBu\", annot = True)\n",
    "plt.show()"
   ]
  },
  {
   "cell_type": "markdown",
   "metadata": {
    "_uuid": "de3f5b90d0b6165958efcf1a31b80141867987fe"
   },
   "source": [
    "As is visible from the pairplot and the heatmap, all the variables seem to be correlated with `Referrals`. So let's go ahead and perform simple linear regression using all as our feature variable."
   ]
  },
  {
   "cell_type": "markdown",
   "metadata": {
    "_uuid": "1c10d5d48b611a9c66e1c99e66c44f6b36191a92"
   },
   "source": [
    "## Model Building"
   ]
  },
  {
   "cell_type": "markdown",
   "metadata": {
    "_uuid": "6d593021918853ea7402f5efa6348425481dd538"
   },
   "source": [
    "### Performing Simple Linear Regression"
   ]
  },
  {
   "cell_type": "markdown",
   "metadata": {
    "_uuid": "596550475e9050e4413572b184f66ddf74764878"
   },
   "source": [
    "Equation of linear regression<br>\n",
    "$y = c + m_1x_1 + m_2x_2 + ... + m_nx_n$\n",
    "\n",
    "-  $y$ is the response\n",
    "-  $c$ is the intercept\n",
    "-  $m_1$ is the coefficient for the first feature\n",
    "-  $m_n$ is the coefficient for the nth feature<br>\n",
    "\n",
    "In our case:\n",
    "\n",
    "$y = c + m_1 \\times TV$\n",
    "\n",
    "The $m$ values are called the model **coefficients** or **model parameters**.\n",
    "\n",
    "---"
   ]
  },
  {
   "cell_type": "markdown",
   "metadata": {
    "_uuid": "fe62b625cb69b757c37930b85ffc1b4b4805f4ca"
   },
   "source": [
    "### Generic Steps in model building using `statsmodels` and Linear Regression\n",
    "\n",
    "We first assign the feature variable, to the variable `X` and the response variable, `Referrals`, to the variable `y`."
   ]
  },
  {
   "cell_type": "code",
   "execution_count": 48,
   "metadata": {},
   "outputs": [
    {
     "data": {
      "text/html": [
       "<div>\n",
       "<style scoped>\n",
       "    .dataframe tbody tr th:only-of-type {\n",
       "        vertical-align: middle;\n",
       "    }\n",
       "\n",
       "    .dataframe tbody tr th {\n",
       "        vertical-align: top;\n",
       "    }\n",
       "\n",
       "    .dataframe thead th {\n",
       "        text-align: right;\n",
       "    }\n",
       "</style>\n",
       "<table border=\"1\" class=\"dataframe\">\n",
       "  <thead>\n",
       "    <tr style=\"text-align: right;\">\n",
       "      <th></th>\n",
       "      <th>Date</th>\n",
       "      <th>DAU</th>\n",
       "      <th>Installs</th>\n",
       "      <th>Uninstalls</th>\n",
       "      <th>Signups</th>\n",
       "      <th>Referrals</th>\n",
       "    </tr>\n",
       "  </thead>\n",
       "  <tbody>\n",
       "    <tr>\n",
       "      <th>0</th>\n",
       "      <td>01-10-2022</td>\n",
       "      <td>24071</td>\n",
       "      <td>6630</td>\n",
       "      <td>6994</td>\n",
       "      <td>3511</td>\n",
       "      <td>962.0</td>\n",
       "    </tr>\n",
       "    <tr>\n",
       "      <th>1</th>\n",
       "      <td>02-10-2022</td>\n",
       "      <td>23548</td>\n",
       "      <td>6366</td>\n",
       "      <td>6669</td>\n",
       "      <td>3387</td>\n",
       "      <td>941.0</td>\n",
       "    </tr>\n",
       "    <tr>\n",
       "      <th>2</th>\n",
       "      <td>03-10-2022</td>\n",
       "      <td>24572</td>\n",
       "      <td>6936</td>\n",
       "      <td>6899</td>\n",
       "      <td>3654</td>\n",
       "      <td>940.0</td>\n",
       "    </tr>\n",
       "    <tr>\n",
       "      <th>3</th>\n",
       "      <td>04-10-2022</td>\n",
       "      <td>24212</td>\n",
       "      <td>6561</td>\n",
       "      <td>6766</td>\n",
       "      <td>3532</td>\n",
       "      <td>960.0</td>\n",
       "    </tr>\n",
       "    <tr>\n",
       "      <th>4</th>\n",
       "      <td>05-10-2022</td>\n",
       "      <td>23247</td>\n",
       "      <td>6059</td>\n",
       "      <td>6402</td>\n",
       "      <td>3315</td>\n",
       "      <td>923.0</td>\n",
       "    </tr>\n",
       "  </tbody>\n",
       "</table>\n",
       "</div>"
      ],
      "text/plain": [
       "         Date    DAU  Installs  Uninstalls  Signups  Referrals\n",
       "0  01-10-2022  24071      6630        6994     3511      962.0\n",
       "1  02-10-2022  23548      6366        6669     3387      941.0\n",
       "2  03-10-2022  24572      6936        6899     3654      940.0\n",
       "3  04-10-2022  24212      6561        6766     3532      960.0\n",
       "4  05-10-2022  23247      6059        6402     3315      923.0"
      ]
     },
     "execution_count": 48,
     "metadata": {},
     "output_type": "execute_result"
    }
   ],
   "source": [
    "sikka.head()"
   ]
  },
  {
   "cell_type": "code",
   "execution_count": 49,
   "metadata": {
    "_uuid": "ae7285c79fd678fad0ee4fb18f8923daf024838b"
   },
   "outputs": [],
   "source": [
    "X = sikka[['DAU','Installs','Uninstalls','Signups']]\n",
    "y = sikka['Referrals']"
   ]
  },
  {
   "cell_type": "code",
   "execution_count": 62,
   "metadata": {},
   "outputs": [
    {
     "name": "stdout",
     "output_type": "stream",
     "text": [
      "Intercept for the model is -185.42264144979185 and the scope is [ 0.02147936 -0.09788852  0.07319938  0.21522534]\n",
      "Predicted Values: [950.21873898 914.34986362 954.84929208 947.83191008 902.89589412]\n",
      "Actual Values: [962. 941. 940. 960. 923.]\n"
     ]
    }
   ],
   "source": [
    "from sklearn.linear_model import LinearRegression\n",
    "\n",
    "# Create Linear Regression Object\n",
    "lm1 = LinearRegression()\n",
    "X1 = sikka[['DAU','Installs','Uninstalls','Signups']]\n",
    "Y1 = sikka['Referrals'] # Target\n",
    "\n",
    "# Fit (Train) the model\n",
    "lm1.fit(X1,Y1)\n",
    "\n",
    "print(\"Intercept for the model is\", lm1.intercept_, \"and the scope is\",lm1.coef_)\n",
    "\n",
    "# Prediction\n",
    "Yout1 = lm1.predict(X1)\n",
    "\n",
    "# Actual and Predicted values (first five)\n",
    "print(\"Predicted Values:\",Yout1[0:5])\n",
    "print(\"Actual Values:\",Y1.values[0:5])"
   ]
  },
  {
   "cell_type": "code",
   "execution_count": 71,
   "metadata": {},
   "outputs": [],
   "source": [
    "testing=test[['DAU','Installs','Uninstalls','Signups']]"
   ]
  },
  {
   "cell_type": "code",
   "execution_count": 78,
   "metadata": {},
   "outputs": [
    {
     "data": {
      "text/html": [
       "<div>\n",
       "<style scoped>\n",
       "    .dataframe tbody tr th:only-of-type {\n",
       "        vertical-align: middle;\n",
       "    }\n",
       "\n",
       "    .dataframe tbody tr th {\n",
       "        vertical-align: top;\n",
       "    }\n",
       "\n",
       "    .dataframe thead th {\n",
       "        text-align: right;\n",
       "    }\n",
       "</style>\n",
       "<table border=\"1\" class=\"dataframe\">\n",
       "  <thead>\n",
       "    <tr style=\"text-align: right;\">\n",
       "      <th></th>\n",
       "      <th>0</th>\n",
       "    </tr>\n",
       "  </thead>\n",
       "  <tbody>\n",
       "    <tr>\n",
       "      <th>0</th>\n",
       "      <td>413.903506</td>\n",
       "    </tr>\n",
       "    <tr>\n",
       "      <th>1</th>\n",
       "      <td>404.323518</td>\n",
       "    </tr>\n",
       "    <tr>\n",
       "      <th>2</th>\n",
       "      <td>345.061219</td>\n",
       "    </tr>\n",
       "    <tr>\n",
       "      <th>3</th>\n",
       "      <td>409.076768</td>\n",
       "    </tr>\n",
       "    <tr>\n",
       "      <th>4</th>\n",
       "      <td>382.201919</td>\n",
       "    </tr>\n",
       "    <tr>\n",
       "      <th>5</th>\n",
       "      <td>414.948034</td>\n",
       "    </tr>\n",
       "    <tr>\n",
       "      <th>6</th>\n",
       "      <td>373.481453</td>\n",
       "    </tr>\n",
       "    <tr>\n",
       "      <th>7</th>\n",
       "      <td>348.577802</td>\n",
       "    </tr>\n",
       "    <tr>\n",
       "      <th>8</th>\n",
       "      <td>427.628072</td>\n",
       "    </tr>\n",
       "    <tr>\n",
       "      <th>9</th>\n",
       "      <td>442.541977</td>\n",
       "    </tr>\n",
       "    <tr>\n",
       "      <th>10</th>\n",
       "      <td>464.017305</td>\n",
       "    </tr>\n",
       "    <tr>\n",
       "      <th>11</th>\n",
       "      <td>447.726676</td>\n",
       "    </tr>\n",
       "    <tr>\n",
       "      <th>12</th>\n",
       "      <td>480.159905</td>\n",
       "    </tr>\n",
       "    <tr>\n",
       "      <th>13</th>\n",
       "      <td>471.074888</td>\n",
       "    </tr>\n",
       "    <tr>\n",
       "      <th>14</th>\n",
       "      <td>565.292282</td>\n",
       "    </tr>\n",
       "  </tbody>\n",
       "</table>\n",
       "</div>"
      ],
      "text/plain": [
       "             0\n",
       "0   413.903506\n",
       "1   404.323518\n",
       "2   345.061219\n",
       "3   409.076768\n",
       "4   382.201919\n",
       "5   414.948034\n",
       "6   373.481453\n",
       "7   348.577802\n",
       "8   427.628072\n",
       "9   442.541977\n",
       "10  464.017305\n",
       "11  447.726676\n",
       "12  480.159905\n",
       "13  471.074888\n",
       "14  565.292282"
      ]
     },
     "execution_count": 78,
     "metadata": {},
     "output_type": "execute_result"
    }
   ],
   "source": [
    "prediction=lm1.predict(testing)\n",
    "pd.DataFrame(prediction)"
   ]
  },
  {
   "cell_type": "code",
   "execution_count": 77,
   "metadata": {
    "scrolled": false
   },
   "outputs": [
    {
     "data": {
      "text/html": [
       "<div>\n",
       "<style scoped>\n",
       "    .dataframe tbody tr th:only-of-type {\n",
       "        vertical-align: middle;\n",
       "    }\n",
       "\n",
       "    .dataframe tbody tr th {\n",
       "        vertical-align: top;\n",
       "    }\n",
       "\n",
       "    .dataframe thead th {\n",
       "        text-align: right;\n",
       "    }\n",
       "</style>\n",
       "<table border=\"1\" class=\"dataframe\">\n",
       "  <thead>\n",
       "    <tr style=\"text-align: right;\">\n",
       "      <th></th>\n",
       "      <th>DAU</th>\n",
       "      <th>Installs</th>\n",
       "      <th>Uninstalls</th>\n",
       "      <th>Signups</th>\n",
       "    </tr>\n",
       "  </thead>\n",
       "  <tbody>\n",
       "    <tr>\n",
       "      <th>0</th>\n",
       "      <td>12816</td>\n",
       "      <td>3763</td>\n",
       "      <td>4149</td>\n",
       "      <td>1806</td>\n",
       "    </tr>\n",
       "    <tr>\n",
       "      <th>1</th>\n",
       "      <td>12812</td>\n",
       "      <td>3087</td>\n",
       "      <td>3868</td>\n",
       "      <td>1550</td>\n",
       "    </tr>\n",
       "    <tr>\n",
       "      <th>2</th>\n",
       "      <td>12042</td>\n",
       "      <td>3176</td>\n",
       "      <td>3815</td>\n",
       "      <td>1410</td>\n",
       "    </tr>\n",
       "    <tr>\n",
       "      <th>3</th>\n",
       "      <td>12595</td>\n",
       "      <td>3172</td>\n",
       "      <td>3878</td>\n",
       "      <td>1629</td>\n",
       "    </tr>\n",
       "    <tr>\n",
       "      <th>4</th>\n",
       "      <td>12361</td>\n",
       "      <td>3390</td>\n",
       "      <td>4021</td>\n",
       "      <td>1578</td>\n",
       "    </tr>\n",
       "    <tr>\n",
       "      <th>5</th>\n",
       "      <td>13166</td>\n",
       "      <td>3441</td>\n",
       "      <td>4071</td>\n",
       "      <td>1656</td>\n",
       "    </tr>\n",
       "    <tr>\n",
       "      <th>6</th>\n",
       "      <td>12565</td>\n",
       "      <td>3468</td>\n",
       "      <td>4011</td>\n",
       "      <td>1556</td>\n",
       "    </tr>\n",
       "    <tr>\n",
       "      <th>7</th>\n",
       "      <td>12988</td>\n",
       "      <td>4468</td>\n",
       "      <td>4143</td>\n",
       "      <td>1808</td>\n",
       "    </tr>\n",
       "    <tr>\n",
       "      <th>8</th>\n",
       "      <td>12992</td>\n",
       "      <td>4491</td>\n",
       "      <td>4638</td>\n",
       "      <td>2017</td>\n",
       "    </tr>\n",
       "    <tr>\n",
       "      <th>9</th>\n",
       "      <td>13377</td>\n",
       "      <td>4261</td>\n",
       "      <td>4480</td>\n",
       "      <td>1997</td>\n",
       "    </tr>\n",
       "    <tr>\n",
       "      <th>10</th>\n",
       "      <td>13826</td>\n",
       "      <td>4274</td>\n",
       "      <td>4512</td>\n",
       "      <td>2047</td>\n",
       "    </tr>\n",
       "    <tr>\n",
       "      <th>11</th>\n",
       "      <td>13464</td>\n",
       "      <td>4660</td>\n",
       "      <td>4856</td>\n",
       "      <td>2066</td>\n",
       "    </tr>\n",
       "    <tr>\n",
       "      <th>12</th>\n",
       "      <td>13415</td>\n",
       "      <td>4416</td>\n",
       "      <td>4749</td>\n",
       "      <td>2147</td>\n",
       "    </tr>\n",
       "    <tr>\n",
       "      <th>13</th>\n",
       "      <td>13873</td>\n",
       "      <td>4097</td>\n",
       "      <td>4305</td>\n",
       "      <td>2065</td>\n",
       "    </tr>\n",
       "    <tr>\n",
       "      <th>14</th>\n",
       "      <td>14459</td>\n",
       "      <td>4890</td>\n",
       "      <td>4593</td>\n",
       "      <td>2707</td>\n",
       "    </tr>\n",
       "  </tbody>\n",
       "</table>\n",
       "</div>"
      ],
      "text/plain": [
       "      DAU  Installs  Uninstalls  Signups\n",
       "0   12816      3763        4149     1806\n",
       "1   12812      3087        3868     1550\n",
       "2   12042      3176        3815     1410\n",
       "3   12595      3172        3878     1629\n",
       "4   12361      3390        4021     1578\n",
       "5   13166      3441        4071     1656\n",
       "6   12565      3468        4011     1556\n",
       "7   12988      4468        4143     1808\n",
       "8   12992      4491        4638     2017\n",
       "9   13377      4261        4480     1997\n",
       "10  13826      4274        4512     2047\n",
       "11  13464      4660        4856     2066\n",
       "12  13415      4416        4749     2147\n",
       "13  13873      4097        4305     2065\n",
       "14  14459      4890        4593     2707"
      ]
     },
     "execution_count": 77,
     "metadata": {},
     "output_type": "execute_result"
    }
   ],
   "source": [
    "pd.DataFrame(testing)"
   ]
  }
 ],
 "metadata": {
  "kernelspec": {
   "display_name": "Python 3",
   "language": "python",
   "name": "python3"
  },
  "language_info": {
   "codemirror_mode": {
    "name": "ipython",
    "version": 3
   },
   "file_extension": ".py",
   "mimetype": "text/x-python",
   "name": "python",
   "nbconvert_exporter": "python",
   "pygments_lexer": "ipython3",
   "version": "3.8.8"
  }
 },
 "nbformat": 4,
 "nbformat_minor": 1
}
